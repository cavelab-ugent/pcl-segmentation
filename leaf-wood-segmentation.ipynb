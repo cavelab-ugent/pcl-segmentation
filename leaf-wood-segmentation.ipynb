{
 "cells": [
  {
   "attachments": {},
   "cell_type": "markdown",
   "metadata": {},
   "source": [
    "---\n",
    "# Notebook for leaf wood segmentation for tropical trees\n",
    "--- "
   ]
  },
  {
   "attachments": {},
   "cell_type": "markdown",
   "metadata": {},
   "source": [
    "## Import libraries"
   ]
  },
  {
   "cell_type": "code",
   "execution_count": 3,
   "metadata": {},
   "outputs": [],
   "source": [
    "import os\n",
    "from tqdm import tqdm\n",
    "import numpy as np\n",
    "import open3d as o3d\n",
    "import open3d.ml as _ml3d\n",
    "import open3d.ml.torch as ml3d\n",
    "import numpy as np\n",
    "import glob\n",
    "import torch\n",
    "\n",
    "DATA_DIR = \"/mnt/c/Users/wavdnbro/OneDrive - UGent/Documents/spacetwin/datasets/leaf_wood/\""
   ]
  },
  {
   "attachments": {},
   "cell_type": "markdown",
   "metadata": {},
   "source": [
    "## Preprocess dataset"
   ]
  },
  {
   "cell_type": "code",
   "execution_count": 3,
   "metadata": {},
   "outputs": [],
   "source": [
    "# ---------------\n",
    "# Code to preprocess the tropical leaf-wood data of Louise Terryn\n",
    "#\n",
    "# The manually labeled wood points did not match the original point cloud due to precision mismatch when saving the files.\n",
    "# I thus saved the original point clouds with the same precision (%.3f). Then, I attributed a label to each point in the \n",
    "# original point cloud indicating whether the point is 'wood' or 'non-wood'. \n",
    "# \n",
    "# ---------------\n",
    "\n",
    "PATH_TREE = os.path.join(DATA_DIR, 'tree_points')\n",
    "PATH_WOOD = os.path.join(DATA_DIR, 'wood_points')\n",
    "plot_names = ['DRO', 'OC', 'RC']\n",
    "\n",
    "# Create different variables holding the filenames and paths\n",
    "filenames = {plot_name: os.listdir(os.path.join(PATH_TREE, plot_name)) for plot_name in plot_names}\n",
    "\n",
    "filenames_all = []\n",
    "for plot_name in plot_names:\n",
    "    filenames_all = filenames_all + filenames[plot_name]\n",
    "\n",
    "filepaths_tree = []\n",
    "for plot_name in plot_names:\n",
    "    filepaths_tree = filepaths_tree + [os.path.join(PATH_TREE, plot_name, filename) for filename in filenames[plot_name]]\n",
    "\n",
    "filepaths_wood = []\n",
    "for plot_name in plot_names:\n",
    "    filepaths_wood = filepaths_wood + [os.path.join(PATH_WOOD, plot_name, filename[:-6] + 'tls_0.02_wood.txt') for filename in filenames[plot_name]]\n",
    "\n",
    "\n",
    "def decrease_precision():\n",
    "\n",
    "    for file_in, filename_out in zip(filepaths_tree, filenames_all):\n",
    "        # Read tree\n",
    "        tree = np.loadtxt(file_in)   \n",
    "\n",
    "        if not os.path.exists(os.path.join(DATA_DIR, 'tmp')):\n",
    "                    os.makedirs(os.path.join(DATA_DIR, 'tmp'))\n",
    "\n",
    "        # Write file with lower precision\n",
    "        path_out = os.path.join(DATA_DIR, 'tmp', filename_out)\n",
    "        np.savetxt(path_out, tree, fmt='%.3f')\n",
    "\n",
    "\n",
    "def view1D(a, b): # a, b are arrays\n",
    "    a = np.ascontiguousarray(a)\n",
    "    b = np.ascontiguousarray(b)\n",
    "    void_dt = np.dtype((np.void, a.dtype.itemsize * a.shape[1]))\n",
    "    return a.view(void_dt).ravel(),  b.view(void_dt).ravel()\n",
    "\n",
    "\n",
    "def isin_nd(a,b):\n",
    "    # a,b are the 3D input arrays to give us \"isin-like\" functionality across them\n",
    "    A,B = view1D(a.reshape(a.shape[0],-1),b.reshape(b.shape[0],-1))\n",
    "    return np.isin(A,B)\n",
    "\n",
    "\n",
    "def add_label():\n",
    "\n",
    "     for filename, path_wood in zip(filenames_all, filepaths_wood):\n",
    "        # Read tree\n",
    "        tree = np.loadtxt(os.path.join(DATA_DIR, 'tmp', filename)) \n",
    "        wood = np.loadtxt(path_wood) \n",
    "        wood = wood[:, :3]\n",
    "\n",
    "        label = isin_nd(tree, wood)\n",
    "        file_out = np.hstack((tree, label.reshape(-1, 1)))\n",
    "     \n",
    "        if not os.path.exists(os.path.join(DATA_DIR, 'preprocessed')):\n",
    "            os.makedirs(os.path.join(DATA_DIR, 'preprocessed'))\n",
    "     \n",
    "        # Write file with label\n",
    "        path_out = os.path.join(DATA_DIR, 'preprocessed', filename)\n",
    "        np.savetxt(path_out, file_out, fmt='%.3f')\n",
    "\n",
    "\n",
    "# decrease_precision()\n",
    "# add_label()"
   ]
  },
  {
   "attachments": {},
   "cell_type": "markdown",
   "metadata": {},
   "source": [
    "## Data exploration"
   ]
  },
  {
   "cell_type": "code",
   "execution_count": 6,
   "metadata": {},
   "outputs": [
    {
     "name": "stdout",
     "output_type": "stream",
     "text": [
      "number of trees: 148\n",
      "total number of points: 43639363\n",
      "average number of points per tree: 294860.5608108108\n",
      "max number of points: 1887667\n",
      "min number of points: 16484\n",
      "total number of woody points: 9127323.0\n",
      "total_number of non-wood points: 34512040.0\n",
      "fraction: 0.20915344250098242\n"
     ]
    }
   ],
   "source": [
    "DATA_PATH = DATA_DIR + 'preprocessed/'\n",
    "\n",
    "n_trees = len(os.listdir(DATA_PATH))\n",
    "print('number of trees:', n_trees)\n",
    "\n",
    "total_points = 0\n",
    "wood_points = 0\n",
    "max_points = 0\n",
    "min_points = 100000000\n",
    "\n",
    "for filename in os.listdir(DATA_PATH):\n",
    "    tree = np.loadtxt(DATA_PATH + filename)\n",
    "    \n",
    "    total_points += len(tree)\n",
    "    wood_points += tree[:, 3].sum()\n",
    "    max_points = max(max_points, len(tree))\n",
    "    min_points = min(min_points, len(tree))\n",
    "\n",
    "\n",
    "print('total number of points:', total_points)\n",
    "print('average number of points per tree:', total_points / n_trees)\n",
    "print('max number of points:', max_points)\n",
    "print('min number of points:', min_points)\n",
    "print('total number of woody points:', wood_points)\n",
    "print('total_number of non-wood points:', total_points - wood_points)\n",
    "print('fraction:', wood_points / total_points)"
   ]
  },
  {
   "attachments": {},
   "cell_type": "markdown",
   "metadata": {},
   "source": [
    "## 3D deep learning for semantic segmentation"
   ]
  },
  {
   "attachments": {},
   "cell_type": "markdown",
   "metadata": {},
   "source": [
    "### Load dataset"
   ]
  },
  {
   "cell_type": "code",
   "execution_count": 35,
   "metadata": {},
   "outputs": [
    {
     "name": "stderr",
     "output_type": "stream",
     "text": [
      "loading dataset: 100%|██████████| 148/148 [00:21<00:00,  6.82it/s]\n"
     ]
    }
   ],
   "source": [
    "\n",
    "class MyDataset(torch.utils.data.Dataset):\n",
    "    \"\"\"\"\n",
    "    Custom Torch Dataset class to load the point cloud dataset for semantic segmenation into memory\n",
    "\n",
    "    Attributes:\n",
    "        data (list): list of  \n",
    "    \"\"\"\n",
    "    def __init__(self, dataset_path):\n",
    "        self.data = self._load_dataset(dataset_path)\n",
    "\n",
    "    def __len__(self):\n",
    "        return len(self.data)\n",
    "    \n",
    "    def __getitem__(self, index):\n",
    "        return self.data[index]\n",
    "    \n",
    "    def _load_dataset(self, dataset_path):\n",
    "        # Get all filenames of the point clouds (stored as .txt)\n",
    "        pcd_names = glob.glob(dataset_path + '/*.txt' )\n",
    "\n",
    "        data = []\n",
    "        for i in tqdm(range(len(pcd_names)), desc='loading dataset'):\n",
    "            # Load point cloud\n",
    "            pcd = np.loadtxt(os.path.join(dataset_path, pcd_names[i]))\n",
    "\n",
    "            # Append each point cloud as a list\n",
    "            data.append({\n",
    "                'point': pcd[:, :3], # xyz coordinates\n",
    "                'feat': None,        # the points do not have features\n",
    "                'label': pcd[:, 3].astype(np.int32),  # point wise label\n",
    "            })\n",
    "        \n",
    "        return data\n",
    "    \n",
    "\n",
    "DATA_PATH = \"/mnt/c/Users/wavdnbro/OneDrive - UGent/Documents/spacetwin/datasets/leaf_wood/preprocessed/\"\n",
    "dataset = MyDataset(DATA_PATH)\n",
    "\n",
    "# torch_data_train = mydataset(data_train)\n",
    "# dataload_train = DataLoader(torch_data_train, batch_size=batch_size, shuffle=True, num_workers=2)"
   ]
  },
  {
   "attachments": {},
   "cell_type": "markdown",
   "metadata": {},
   "source": [
    "### Explore model"
   ]
  },
  {
   "cell_type": "code",
   "execution_count": null,
   "metadata": {},
   "outputs": [],
   "source": [
    "# Load config file\n",
    "cfg_file = \"cfg/randlanet_leafwood.yml\"\n",
    "cfg = _ml3d.utils.Config.load_from_file(cfg_file)\n",
    "\n",
    "# Instantiate model and pipeline\n",
    "model = ml3d.models.RandLANet(**cfg.model)\n",
    "pipeline = ml3d.pipelines.SemanticSegmentation(model, **cfg.pipeline)"
   ]
  },
  {
   "cell_type": "code",
   "execution_count": 34,
   "metadata": {},
   "outputs": [
    {
     "name": "stdout",
     "output_type": "stream",
     "text": [
      "(30826, 3)\n",
      "(30275, 3)\n",
      "(65536, 3)\n"
     ]
    }
   ],
   "source": [
    "attr = {'split':'train'}\n",
    "input_pcl = dataset[22]\n",
    "\n",
    "data = model.preprocess(input_pcl, attr)\n",
    "inputs = model.transform(data, attr)\n",
    "\n",
    "print(input_pcl['point'].shape)\n",
    "print(data['point'].shape)\n",
    "print(inputs['coords'][0].shape)\n",
    "\n",
    "# Save preprocessed and transformed point cloud with label\n",
    "# --> visualise in cloud compare to check. \n",
    "# input has been augmented\n",
    "pcl_transformed = np.hstack((inputs['coords'][0], inputs['labels'].reshape(-1, 1)))\n",
    "np.savetxt('./tests/pcl_transformed_input_randlanet.txt', pcl_transformed, fmt='%.3f')"
   ]
  },
  {
   "cell_type": "code",
   "execution_count": 30,
   "metadata": {},
   "outputs": [
    {
     "data": {
      "text/plain": [
       "array([[ 2.05913281, -0.25518274, 10.0575676 ,  0.        ],\n",
       "       [ 1.49423504,  1.06055248, 10.02853012,  0.        ],\n",
       "       [-0.08753002, -1.44900858, 10.19883728,  0.        ],\n",
       "       ...,\n",
       "       [-0.5222156 , -0.38171166, 11.84873962,  0.        ],\n",
       "       [ 0.03200158,  3.0747714 , 12.2192812 ,  0.        ],\n",
       "       [ 0.3031345 ,  0.12964687,  9.76675892,  1.        ]])"
      ]
     },
     "execution_count": 30,
     "metadata": {},
     "output_type": "execute_result"
    }
   ],
   "source": [
    "np.hstack((inputs['coords'][0], inputs['labels'].reshape(-1, 1)))\n"
   ]
  },
  {
   "attachments": {},
   "cell_type": "markdown",
   "metadata": {},
   "source": [
    "### Inference"
   ]
  },
  {
   "cell_type": "code",
   "execution_count": null,
   "metadata": {},
   "outputs": [],
   "source": [
    "# Run inference\n",
    "result = pipeline.run_inference(dataset[1])"
   ]
  },
  {
   "attachments": {},
   "cell_type": "markdown",
   "metadata": {},
   "source": [
    "### Evaluate results"
   ]
  },
  {
   "cell_type": "code",
   "execution_count": 37,
   "metadata": {},
   "outputs": [
    {
     "name": "stdout",
     "output_type": "stream",
     "text": [
      "number of points: 735330\n"
     ]
    },
    {
     "data": {
      "image/png": "[encoded data removed]",
      "text/plain": [
       "<Figure size 640x480 with 1 Axes>"
      ]
     },
     "metadata": {},
     "output_type": "display_data"
    },
    {
     "data": {
      "image/png": "[encoded data removed]",
      "text/plain": [
       "<Figure size 640x480 with 1 Axes>"
      ]
     },
     "metadata": {},
     "output_type": "display_data"
    }
   ],
   "source": [
    "import matplotlib.pyplot as plt\n",
    "\n",
    "print('number of points:', dataset[1].get('point').shape[0])\n",
    "\n",
    "scores = result['predict_scores']\n",
    "\n",
    "plt.hist(scores[:, 0], alpha=0.5, bins=20, label='leaf')\n",
    "plt.hist(scores[:, 1], alpha=0.5, bins=20, label='wood')\n",
    "\n",
    "# Add labels and legend\n",
    "plt.xlabel('Probability score')\n",
    "plt.ylabel('Frequency')\n",
    "plt.legend()\n",
    "\n",
    "# Show the plot\n",
    "plt.show()\n",
    "\n",
    "labels = result['predict_labels']\n",
    "\n",
    "plt.hist(labels, alpha=0.5, label='Column 1')\n",
    "plt.show()"
   ]
  }
 ],
 "metadata": {
  "kernelspec": {
   "display_name": "spacetwin",
   "language": "python",
   "name": "python3"
  },
  "language_info": {
   "codemirror_mode": {
    "name": "ipython",
    "version": 3
   },
   "file_extension": ".py",
   "mimetype": "text/x-python",
   "name": "python",
   "nbconvert_exporter": "python",
   "pygments_lexer": "ipython3",
   "version": "3.10.8"
  },
  "orig_nbformat": 4
 },
 "nbformat": 4,
 "nbformat_minor": 2
}
