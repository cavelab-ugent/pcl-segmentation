{
 "cells": [
  {
   "attachments": {},
   "cell_type": "markdown",
   "metadata": {},
   "source": [
    "## Try out notebook for using julia code\n",
    "\n",
    "test below is not faster than python code"
   ]
  },
  {
   "cell_type": "code",
   "execution_count": 69,
   "metadata": {},
   "outputs": [],
   "source": [
    "using Glob, CSV, DataFrames, ProgressMeter, FileIO, MeshIO, PlyIO\n",
    "\n",
    "# Get list of tiles\n",
    "datafolder_raw_selection_clipped = \"/mnt/c/Users/wavdnbro/OneDrive - UGent/Documents/spacetwin/datasets/wythamwoods/raw_selection_clipped_10-25/\"\n",
    "tilenames = [joinpath(datafolder_raw_selection_clipped, f) for f in readdir(datafolder_raw_selection_clipped) if isfile(joinpath(datafolder_raw_selection_clipped, f)) && endswith(f, \".ply\")]\n",
    "\n",
    "# Get bounding boxes of segmented trees\n",
    "bbox_filename = \"/mnt/c/Users/wavdnbro/OneDrive - UGent/Documents/spacetwin/datasets/wythamwoods/segmented/bounding_boxes.csv\"\n",
    "bbox = CSV.File(bbox_filename) |> DataFrame\n",
    "bbox[:, :tree_nr] = 0:nrow(bbox)-1\n",
    "\n",
    "# Make mapping of tree file to unique number\n",
    "datafolder_segm = \"/mnt/c/Users/wavdnbro/OneDrive - UGent/Documents/spacetwin/datasets/wythamwoods/segmented/\"\n",
    "filenames = [f for f in readdir(datafolder_segm) if isfile(joinpath(datafolder_segm, f)) && endswith(f, \".ply\")]\n",
    "tree_file2number = Dict(filename => i for (i, filename) in enumerate(filenames))\n",
    "tree_number2file = Dict(i => filename for (i, filename) in enumerate(filenames))\n",
    "\n",
    "# Iterate over all tiles\n",
    "for i in 1:length(tilenames)\n",
    "    # Read tile\n",
    "    tilename = tilenames[i]\n",
    "    tile = load_ply(tilename)\n",
    "    x = tile[\"vertex\"][\"x\"]\n",
    "    y = tile[\"vertex\"][\"y\"]\n",
    "    z = tile[\"vertex\"][\"z\"]\n",
    "\n",
    "    # Get bounds of tile\n",
    "    t_x_max = maximum(x)\n",
    "    t_x_min = minimum(x)\n",
    "    t_y_max = maximum(y)\n",
    "    t_y_min = minimum(y)\n",
    "\n",
    "    tile = hcat(x, y, z)\n",
    "\n",
    "    # Get trees that fall (partly) within bounds of the tile\n",
    "    bbox_in = bbox[(bbox[:, :x_min] .< t_x_max) .& (bbox[:, :x_max] .> t_x_min) .& (bbox[:, :y_min] .< t_y_max) .& (bbox[:, :y_max] .> t_y_min), :]\n",
    "    print(bbox_in)\n",
    "    trees_names_in = [tree_number2file[i] for i in bbox_in[!, :tree_nr]]\n",
    "\n",
    "    # Read in point clouds of included trees\n",
    "    trees_in = [load_ply(joinpath(datafolder_segm, tree_name)) for tree_name in trees_names_in]\n",
    "\n",
    "    # Pre-allocate label array with value '-1'\n",
    "    label = fill(-1, (size(tile, 1), 2))\n",
    "\n",
    "    # Iterate over all trees within tile\n",
    "    for (tree_name, tree_in) in zip(trees_names_in, trees_in)\n",
    "        # Boolean list indicating where tile points occur as tree points\n",
    "        tree = hcat(tree_in[\"vertex\"][\"x\"], tree_in[\"vertex\"][\"y\"], tree_in[\"vertex\"][\"z\"])\n",
    "        row_match = [row in eachrow(tree) for row in eachrow(tile)]\n",
    "        # row_match = all(tile .== reshape(tree, (1, size(tree, 1), 3)), dims=2)[:, :, 1]\n",
    "\n",
    "        # Allocate class and instance label\n",
    "        label[row_match, 1] .= 1\n",
    "        label[row_match, 2] .= tree_file2number[tree_name]\n",
    "    end\n",
    "\n",
    "    # Save label as csv file\n",
    "    columns = [\"label_class\", \"label_instance\"]\n",
    "    label_df = DataFrame(label, columns)\n",
    "    print(label_df)\n",
    "    # CSV.write(joinpath(dirname(tilename), \"$(basename(splitext(tilename)[1]))_label.csv\"), label_df)\n",
    "end"
   ]
  },
  {
   "cell_type": "code",
   "execution_count": 68,
   "metadata": {},
   "outputs": [
    {
     "data": {
      "text/plain": [
       "3-element Vector{Bool}:\n",
       " 0\n",
       " 1\n",
       " 1"
      ]
     },
     "metadata": {},
     "output_type": "display_data"
    }
   ],
   "source": [
    "arr1 = [1 2 3; 4 5 6; 7 8 9]\n",
    "arr2 = [4 5 6; 10 11 12; 7 8 9]\n",
    "\n",
    "# all(arr1 .== reshape(arr2, (1, size(arr2, 1), 3)), dims=2)[:, :, 1]\n",
    "\n",
    "# [in(arr1[i, :], arr2) for i in 1:size(arr1, 1)]\n",
    "[row in eachrow(arr2) for row in eachrow(arr1)]\n"
   ]
  }
 ],
 "metadata": {
  "kernelspec": {
   "display_name": "Julia 1.8.5",
   "language": "julia",
   "name": "julia-1.8"
  },
  "language_info": {
   "file_extension": ".jl",
   "mimetype": "application/julia",
   "name": "julia",
   "version": "1.8.5"
  },
  "orig_nbformat": 4,
  "vscode": {
   "interpreter": {
    "hash": "d613a8f84a3cca9fdff0d15341a4965998d98e6aa842c40eaa5326b105ac6f44"
   }
  }
 },
 "nbformat": 4,
 "nbformat_minor": 2
}
