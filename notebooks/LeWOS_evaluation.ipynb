{
 "cells": [
  {
   "cell_type": "markdown",
   "metadata": {},
   "source": [
    "---\n",
    "\n",
    "# Supplementary notebook for leaf wood segmentation paper\n",
    "\n",
    "\n",
    "August 2023 \\\n",
    "Wouter Van den Broeck\n",
    "\n",
    "---"
   ]
  },
  {
   "cell_type": "markdown",
   "metadata": {},
   "source": [
    "## 1. Evaluating leaf wood segmentation results derived from the LeWoS method"
   ]
  },
  {
   "cell_type": "code",
   "execution_count": 1,
   "metadata": {},
   "outputs": [],
   "source": [
    "# Load packages\n",
    "import numpy as np\n",
    "import os"
   ]
  },
  {
   "cell_type": "code",
   "execution_count": 52,
   "metadata": {},
   "outputs": [
    {
     "name": "stdout",
     "output_type": "stream",
     "text": [
      "number of prediction files: 30\n",
      "TP: 1264357 TN: 5451431 FP: 87359 FN: 367135 \n",
      "accuracy: 0.9366142084788297 \n",
      " precision: 0.9353717792790793 \n",
      " recall: 0.7749697822606547 \n",
      " iou: 0.7355826653968262 \n",
      " f1: 0.8476492420240225 \n",
      "\n"
     ]
    }
   ],
   "source": [
    "# Specify data paths\n",
    "data_path =  '/mnt/c/Users/wavdnbro/OneDrive - UGent/Documents/spacetwin/datasets/leaf_wood/'\n",
    "dir_true = 'preprocessed/'\n",
    "dir_pred = 'preprocessed_open3d/test_pred_LeWOS/'\n",
    "path_true = os.path.join(data_path, dir_true)\n",
    "path_pred = os.path.join(data_path, dir_pred)\n",
    "\n",
    "filenames = os.listdir(path_pred)\n",
    "print('number of prediction files:', len(filenames))\n",
    "\n",
    "# Loop over ground truth and predictions and keep track of metrics\n",
    "TP, FP, TN, FN = 0, 0, 0, 0\n",
    "\n",
    "for filename in filenames:\n",
    "    # Load ground truth and prediction\n",
    "    gt = np.loadtxt(os.path.join(path_true, filename))\n",
    "    try:\n",
    "        pred = np.loadtxt(os.path.join(path_pred, filename))\n",
    "    except:\n",
    "        raise Warning(f'No ground truth file found with name {filename}')\n",
    "\n",
    "    if len(gt) != len(pred):\n",
    "        raise Exception(f'Length of prediction file and ground truth file ({filename}) do not match!')\n",
    "\n",
    "    gt = gt[gt[:, 0].argsort()]\n",
    "    gt = gt[gt[:, 1].argsort(kind='mergesort')]\n",
    "    gt = gt[gt[:, 2].argsort(kind='mergesort')]\n",
    "    pred = pred[pred[:, 0].argsort()]\n",
    "    pred = pred[pred[:, 1].argsort(kind='mergesort')]\n",
    "    pred = pred[pred[:, 2].argsort(kind='mergesort')]\n",
    "\n",
    "    # get label\n",
    "    gt = gt[:, 3].flatten()\n",
    "    pred = pred[:, 3].flatten()\n",
    "\n",
    "    TP += ((gt == 1) & (pred == 1)).sum()\n",
    "    TN += ((gt == 0) & (pred == 0)).sum()\n",
    "    FP += ((gt == 0) & (pred == 1)).sum()\n",
    "    FN += ((gt == 1) & (pred == 0)).sum()\n",
    "\n",
    "accuracy = (TP + TN) / (TP + TN + FP + FN)\n",
    "precision = TP / (TP + FP)\n",
    "recall = TP / (TP + FN)\n",
    "iou = TP / (TP + FN + FP)\n",
    "f1 = (2 * TP) / (2 * TP + FP + FN)\n",
    "\n",
    "print(\n",
    "    'TP:', TP, 'TN:', TN, 'FP:', FP, 'FN:', FN, '\\n'\n",
    "    'accuracy:', accuracy, '\\n',\n",
    "    'precision:', precision, '\\n',\n",
    "    'recall:', recall, '\\n',\n",
    "    'iou:', iou, '\\n',\n",
    "    'f1:', f1, '\\n',\n",
    ")"
   ]
  },
  {
   "cell_type": "markdown",
   "metadata": {},
   "source": [
    "## Code for converting txt files to ply files"
   ]
  },
  {
   "cell_type": "code",
   "execution_count": 19,
   "metadata": {},
   "outputs": [],
   "source": [
    "import open3d as o3d\n",
    "\n",
    "data_path =  '/mnt/c/Users/wavdnbro/OneDrive - UGent/Documents/spacetwin/datasets/leaf_wood/'\n",
    "filenames = [f[:-3] + 'txt' for f in os.listdir(data_path + 'preprocessed_open3d/test') if f[-3:] == 'npy']\n",
    "\n",
    "for filename in filenames:\n",
    "    # Read file\n",
    "    pcl = np.loadtxt(os.path.join(data_path, 'preprocessed', filename))\n",
    "    xyz = pcl[:, :3]\n",
    "    labels = pcl[:, -1].reshape(-1, 1)\n",
    "\n",
    "    # Convert to open3d tensor format\n",
    "    device = o3d.core.Device(\"CPU:0\")\n",
    "    pcd = o3d.t.geometry.PointCloud(device)\n",
    "    pcd.point.positions = o3d.core.Tensor(xyz, o3d.core.float32, device)\n",
    "    pcd.point.labels = o3d.core.Tensor(labels, o3d.core.int32, device)\n",
    "\n",
    "    # Write as ply file\n",
    "    file_out = os.path.join(data_path, 'preprocessed_open3d/test_ply', filename[:-3] + 'ply')\n",
    "    o3d.t.io.write_point_cloud(file_out, pcd, write_ascii=False, compressed=False, print_progress=False)\n",
    "\n",
    "\n",
    "    \n",
    "\n",
    "\n"
   ]
  }
 ],
 "metadata": {
  "kernelspec": {
   "display_name": "spacetwin",
   "language": "python",
   "name": "python3"
  },
  "language_info": {
   "codemirror_mode": {
    "name": "ipython",
    "version": 3
   },
   "file_extension": ".py",
   "mimetype": "text/x-python",
   "name": "python",
   "nbconvert_exporter": "python",
   "pygments_lexer": "ipython3",
   "version": "3.10.8"
  },
  "orig_nbformat": 4
 },
 "nbformat": 4,
 "nbformat_minor": 2
}
