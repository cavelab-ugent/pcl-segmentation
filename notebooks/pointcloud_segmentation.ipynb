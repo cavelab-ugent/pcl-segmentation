{
 "cells": [
  {
   "attachments": {},
   "cell_type": "markdown",
   "metadata": {},
   "source": [
    "---\n",
    "# Notebook for playing around with visualisation and segmentation of point clouds\n",
    "\n",
    "Wouter Van den Broeck\n",
    "\n",
    "---"
   ]
  },
  {
   "attachments": {},
   "cell_type": "markdown",
   "metadata": {},
   "source": [
    "## Import Libraries"
   ]
  },
  {
   "cell_type": "code",
   "execution_count": 1,
   "metadata": {},
   "outputs": [
    {
     "name": "stdout",
     "output_type": "stream",
     "text": [
      "Jupyter environment detected. Enabling Open3D WebVisualizer.\n",
      "[Open3D INFO] WebRTC GUI backend enabled.\n",
      "[Open3D INFO] WebRTCWindowSystem: HTTP handshake server disabled.\n"
     ]
    }
   ],
   "source": [
    "# Import libraries\n",
    "import matplotlib.pyplot as plt\n",
    "import numpy as np\n",
    "import open3d as o3d\n",
    "import os\n",
    "import pandas as pd\n",
    "import random\n",
    "from tqdm import tqdm\n",
    "\n",
    "# Own files/libraries\n",
    "from utils import read_clouds, combine_pcds, get_bbox\n",
    "\n",
    "# Specify data directory\n",
    "DATA_DIR = \"/mnt/c/Users/wavdnbro/OneDrive - UGent/Documents/spacetwin/datasets/wythamwoods/\"\n",
    "\n"
   ]
  },
  {
   "attachments": {},
   "cell_type": "markdown",
   "metadata": {},
   "source": [
    "## Get bounding boxes of tiles and segmented trees to find overlap"
   ]
  },
  {
   "attachments": {},
   "cell_type": "markdown",
   "metadata": {},
   "source": [
    "Specify paths"
   ]
  },
  {
   "cell_type": "code",
   "execution_count": 23,
   "metadata": {},
   "outputs": [],
   "source": [
    "# Path to datafolders\n",
    "datafolder_segm = bbox_path = os.path.join(DATA_DIR, 'segmented/')\n",
    "datafolder_raw = bbox_path = os.path.join(DATA_DIR, 'raw/')\n",
    "\n",
    "# Path to overall bounding box of segmented trees\n",
    "bbox_extent = os.path.join(DATA_DIR, 'segmented/extent.csv')\n",
    "\n",
    "# Path to bounding boxes of segmented trees\n",
    "bbox_trees = \"/mnt/c/Users/wavdnbro/OneDrive - UGent/Documents/spacetwin/datasets/wythamwoods/segmented/bounding_boxes.csv\"\n",
    "\n",
    "# Path to valid tiles within extent of segmented trees\n",
    "valid_tiles_path = os.path.join(DATA_DIR, 'raw/valid_tiles.csv')"
   ]
  },
  {
   "attachments": {},
   "cell_type": "markdown",
   "metadata": {},
   "source": [
    "Find overall bounding box of all segmented trees"
   ]
  },
  {
   "cell_type": "code",
   "execution_count": null,
   "metadata": {},
   "outputs": [],
   "source": [
    "# Read all segmented trees\n",
    "pcds = read_clouds(datafolder_segm)\n",
    "\n",
    "# Compute overall bounding box\n",
    "get_bbox(pcds, compute_overall_bbox=True, path_out=bbox_extent)\n",
    "\n",
    "# Compute single bounding boxes\n",
    "get_bbox(pcds, path_out=bbox_trees)"
   ]
  },
  {
   "attachments": {},
   "cell_type": "markdown",
   "metadata": {},
   "source": [
    "Find valid tiles falling within bounding box of segmented trees"
   ]
  },
  {
   "cell_type": "code",
   "execution_count": null,
   "metadata": {},
   "outputs": [],
   "source": [
    "# allowed file formats\n",
    "FORMATS = ['ply']\n",
    "    \n",
    "# Get filenames\n",
    "filenames = [f for f in os.listdir(datafolder_raw) if f[-3:] in FORMATS]\n",
    "\n",
    "# Get bounding box of all segmented trees\n",
    "bbox = pd.read_csv(bbox_extent)\n",
    "\n",
    "# Read each tile and check if it falls within the boundary\n",
    "filenames_ok = []\n",
    "for i in tqdm(range(len(filenames))):\n",
    "    filename = filenames[i]\n",
    "    pcl = o3d.io.read_point_cloud(os.path.join(datafolder_raw, filename))\n",
    "    bbox_tile = get_bbox(pcl)\n",
    "\n",
    "    bbox_s = bbox.values[0]\n",
    "    bbox_t = bbox_tile.values[0]\n",
    "\n",
    "    if not ((bbox_t[3] < bbox_s[0]) | (bbox_t[0] > bbox_s[3]) | (bbox_t[4] < bbox_s[1]) | (bbox_t[1] > bbox_s[4])):\n",
    "        filenames_ok.append(filename)\n",
    "\n",
    "# Write names of valid tiles to csv file\n",
    "columns = ['filename'] \n",
    "df_valid_tiles = pd.DataFrame(data=filenames_ok, columns=columns)\n",
    "df_valid_tiles.to_csv(valid_tiles_path, index=False)\n"
   ]
  },
  {
   "attachments": {},
   "cell_type": "markdown",
   "metadata": {},
   "source": [
    "Clip valid tiles to within extent of trees"
   ]
  },
  {
   "cell_type": "code",
   "execution_count": 3,
   "metadata": {},
   "outputs": [
    {
     "name": "stderr",
     "output_type": "stream",
     "text": [
      "100%|██████████| 63/63 [16:56<00:00, 16.14s/it]\n"
     ]
    }
   ],
   "source": [
    "\n",
    "bbox = pd.read_csv(bbox_extent)\n",
    "bb_x_min = bbox['x_min'].values[0]\n",
    "bb_x_max = bbox['x_max'].values[0]\n",
    "bb_y_min = bbox['y_min'].values[0]\n",
    "bb_y_max = bbox['y_max'].values[0]\n",
    "\n",
    "# Get tilenames\n",
    "# datafolder_raw = \"/mnt/c/Users/wavdnbro/OneDrive - UGent/Documents/spacetwin/datasets/wythamwoods/raw/\"\n",
    "# with open(datafolder_raw + \"valid_tiles.txt\", 'r') as f:\n",
    "#     tilenames = f.readlines()\n",
    "\n",
    "tilenames = pd.read_csv(valid_tiles_path)['filename'].values\n",
    "\n",
    "# Define margine to clip tiles at boarder\n",
    "m = 10\n",
    "m_ymax = 25\n",
    "\n",
    "# Datafolder to store clipped tiles\n",
    "datafolder_raw_selection_clipped = \"/mnt/c/Users/wavdnbro/OneDrive - UGent/Documents/spacetwin/datasets/wythamwoods/raw_selection_clipped_\" + str(m) + '-' + str(m_ymax) + \"/\"\n",
    "if not os.path.isdir(datafolder_raw_selection_clipped):\n",
    "    os.mkdir(datafolder_raw_selection_clipped)\n",
    "\n",
    "# Loop over tiles and clip to bounding box + margin\n",
    "for i in tqdm(range(len(tilenames))):\n",
    "    # Read tile\n",
    "    tilename = tilenames[i]\n",
    "    # tilename = tilename.split('\\n')[0]\n",
    "    tile = o3d.io.read_point_cloud(datafolder_raw + tilename)\n",
    "    \n",
    "    # Convert points to numpy array \n",
    "    points = np.asarray(tile.points)\n",
    "    x = points[:,0]\n",
    "    y = points[:,1]\n",
    "\n",
    "    # Select only points within bounding box + margin\n",
    "    points = points[((x > (bb_x_min + m)) & (x < (bb_x_max - m)) & (y > (bb_y_min + m)) & (y < (bb_y_max - m_ymax))), :]\n",
    "\n",
    "    # Save tile (if non empty)\n",
    "    if points.shape[0] > 0:\n",
    "        pcd = o3d.geometry.PointCloud()\n",
    "        pcd.points = o3d.utility.Vector3dVector(points)\n",
    "        o3d.io.write_point_cloud(datafolder_raw_selection_clipped + tilename, pcd)\n"
   ]
  },
  {
   "attachments": {},
   "cell_type": "markdown",
   "metadata": {},
   "source": [
    "Combine multiple point clouds to one point cloud"
   ]
  },
  {
   "cell_type": "code",
   "execution_count": 11,
   "metadata": {},
   "outputs": [
    {
     "name": "stdout",
     "output_type": "stream",
     "text": [
      "Reading point clouds...\n"
     ]
    },
    {
     "name": "stderr",
     "output_type": "stream",
     "text": [
      "100%|██████████| 48/48 [05:49<00:00,  7.28s/it]\n"
     ]
    },
    {
     "name": "stdout",
     "output_type": "stream",
     "text": [
      "combining point clouds...\n"
     ]
    },
    {
     "name": "stderr",
     "output_type": "stream",
     "text": [
      "100%|██████████| 48/48 [00:03<00:00, 12.42it/s]\n"
     ]
    },
    {
     "name": "stdout",
     "output_type": "stream",
     "text": [
      "Writing point cloud...\n"
     ]
    }
   ],
   "source": [
    "# ---------------\n",
    "# Save segmented trees and tiles as one file\n",
    "# ---------------\n",
    "\n",
    "# Combine tiles to one big point cloud and save to disk\n",
    "# datafolder_raw_clipped = \"/mnt/c/Users/wavdnbro/OneDrive - UGent/Documents/spacetwin/datasets/wythamwoods/raw_selection_clipped_10-25/\"\n",
    "# path_out = \"/mnt/c/Users/wavdnbro/OneDrive - UGent/Documents/spacetwin/datasets/wythamwoods/raw_selection_clipped_10-25_single/wytham_winter_singlepcl.pcd\"\n",
    "\n",
    "# combine_pcds(datafolder_raw_clipped, path_out)"
   ]
  },
  {
   "attachments": {},
   "cell_type": "markdown",
   "metadata": {},
   "source": [
    "Attribute label to point cloud"
   ]
  },
  {
   "cell_type": "code",
   "execution_count": 7,
   "metadata": {},
   "outputs": [
    {
     "name": "stderr",
     "output_type": "stream",
     "text": [
      "100%|██████████| 3/3 [00:06<00:00,  2.25s/it]\n",
      "100%|██████████| 18/18 [00:12<00:00,  1.49it/s]\n",
      "100%|██████████| 23/23 [00:06<00:00,  3.50it/s]\n",
      "100%|██████████| 40/40 [00:08<00:00,  4.93it/s]]\n",
      "100%|██████████| 32/32 [00:06<00:00,  5.02it/s]t]\n",
      "100%|██████████| 11/11 [00:00<00:00, 12.06it/s]t]\n",
      "100%|██████████| 19/19 [00:06<00:00,  2.73it/s]  \n",
      "100%|██████████| 43/43 [00:10<00:00,  3.92it/s]\n",
      "100%|██████████| 40/40 [00:05<00:00,  6.71it/s]t]\n",
      "100%|██████████| 46/46 [00:09<00:00,  4.64it/s]t]\n",
      "100%|██████████| 23/23 [00:08<00:00,  2.79it/s]it]\n",
      "100%|██████████| 9/9 [00:01<00:00,  5.21it/s]s/it]\n",
      "100%|██████████| 30/30 [00:06<00:00,  4.36it/s]it]\n",
      "100%|██████████| 55/55 [00:14<00:00,  3.88it/s]   \n",
      "100%|██████████| 42/42 [00:10<00:00,  4.16it/s]it]\n",
      "100%|██████████| 37/37 [00:07<00:00,  4.70it/s]it]\n",
      "100%|██████████| 34/34 [00:08<00:00,  4.16it/s]it]\n",
      "100%|██████████| 15/15 [00:02<00:00,  5.53it/s]it]\n",
      "100%|██████████| 13/13 [00:03<00:00,  3.59it/s]it]\n",
      "100%|██████████| 20/20 [00:05<00:00,  3.43it/s]   \n",
      "100%|██████████| 19/19 [00:04<00:00,  4.43it/s]\n",
      "100%|██████████| 16/16 [00:03<00:00,  5.21it/s]\n",
      "100%|██████████| 9/9 [00:01<00:00,  5.18it/s]t]\n",
      "100%|██████████| 4/4 [00:00<00:00,  7.20it/s]t]\n",
      "100%|██████████| 14/14 [00:02<00:00,  6.93it/s]\n",
      "100%|██████████| 30/30 [00:03<00:00,  8.81it/s]\n",
      "100%|██████████| 29/29 [00:06<00:00,  4.42it/s]\n",
      "100%|██████████| 24/24 [00:06<00:00,  3.55it/s]\n",
      "100%|██████████| 26/26 [00:05<00:00,  4.38it/s]\n",
      "100%|██████████| 5/5 [00:01<00:00,  3.01it/s]t]\n",
      "100%|██████████| 39/39 [00:05<00:00,  6.96it/s]\n",
      "100%|██████████| 84/84 [00:07<00:00, 11.65it/s]\n",
      "100%|██████████| 68/68 [00:09<00:00,  7.21it/s]]\n",
      "100%|██████████| 36/36 [00:10<00:00,  3.29it/s]]\n",
      "100%|██████████| 45/45 [00:06<00:00,  7.33it/s]]\n",
      "100%|██████████| 8/8 [00:01<00:00,  4.57it/s]s/it]\n",
      "100%|██████████| 24/24 [00:04<00:00,  5.84it/s]it]\n",
      "100%|██████████| 38/38 [00:07<00:00,  5.11it/s]it]\n",
      "100%|██████████| 33/33 [00:07<00:00,  4.14it/s]it]\n",
      "100%|██████████| 27/27 [00:06<00:00,  4.16it/s]it]\n",
      "100%|██████████| 45/45 [00:09<00:00,  4.65it/s]it]\n",
      "100%|██████████| 7/7 [00:01<00:00,  3.85it/s]s/it]\n",
      "100%|██████████| 11/11 [00:04<00:00,  2.62it/s]it]\n",
      "100%|██████████| 36/36 [00:08<00:00,  4.35it/s]t] \n",
      "100%|██████████| 32/32 [00:06<00:00,  5.06it/s]it]\n",
      "100%|██████████| 31/31 [00:05<00:00,  5.81it/s]it]\n",
      "100%|██████████| 47/47 [00:06<00:00,  6.92it/s]it]\n",
      "100%|██████████| 10/10 [00:01<00:00,  6.63it/s]it]\n",
      "100%|██████████| 48/48 [1:23:25<00:00, 104.29s/it]\n"
     ]
    }
   ],
   "source": [
    "def view1D(a, b): # a, b are arrays\n",
    "    a = np.ascontiguousarray(a)\n",
    "    b = np.ascontiguousarray(b)\n",
    "    void_dt = np.dtype((np.void, a.dtype.itemsize * a.shape[1]))\n",
    "    return a.view(void_dt).ravel(),  b.view(void_dt).ravel()\n",
    "\n",
    "\n",
    "def isin_nd(a,b):\n",
    "    # a,b are the 3D input arrays to give us \"isin-like\" functionality across them\n",
    "    A,B = view1D(a.reshape(a.shape[0],-1),b.reshape(b.shape[0],-1))\n",
    "    return np.isin(A,B)\n",
    "\n",
    "\n",
    "# Get list of tiles\n",
    "datafolder_raw_selection_clipped = \"/mnt/c/Users/wavdnbro/OneDrive - UGent/Documents/spacetwin/datasets/wythamwoods/raw_selection_clipped_10-25/\"\n",
    "tilenames = [datafolder_raw_selection_clipped + f for f in os.listdir(datafolder_raw_selection_clipped) if f[-3:] == 'ply']\n",
    "# tiles = read_clouds(tilenames)\n",
    "\n",
    "# Get bounding boxes of segmented trees\n",
    "bbox = pd.read_csv(bbox_trees)\n",
    "\n",
    "# Make mapping of tree file to unique number \n",
    "filenames = [f for f in os.listdir(datafolder_segm) if f[-3:] == 'ply']\n",
    "tree_file2number = {filename: i for i, filename in enumerate(filenames)}\n",
    "tree_number2file = {i: filename for i, filename in enumerate(filenames)}\n",
    "\n",
    "# Iterate over all tiles\n",
    "for i in tqdm(range(len(tilenames))):\n",
    "\n",
    "    # Read tile\n",
    "    tilename = tilenames[i]\n",
    "    tile = o3d.io.read_point_cloud(tilename)\n",
    "\n",
    "    # Get bounds of tile\n",
    "    points = np.asarray(tile.points)\n",
    "    t_x_max = np.max(points[:,0])\n",
    "    t_x_min = np.min(points[:,0])\n",
    "    t_y_max = np.max(points[:,1])\n",
    "    t_y_min = np.min(points[:,1])\n",
    "\n",
    "    # Get trees that fall (partly) within bounds of the tile\n",
    "    bbox_in = bbox[((bbox['x_min'] < t_x_max) & (bbox['x_max'] > t_x_min) & (bbox['y_min'] < t_y_max) & (bbox['y_max'] > t_y_min))]\n",
    "    trees_names_in = [tree_number2file[i] for i in bbox_in.index]\n",
    "    \n",
    "    # Read in point clouds of included trees\n",
    "    trees_in = read_clouds([datafolder_segm + tree_name for tree_name in trees_names_in])\n",
    "\n",
    "    # Pre-allocate label array with value '-1'\n",
    "    label = np.zeros((len(points), 2), dtype=np.int32) - 1\n",
    "\n",
    "    # Iterate over all trees within tile\n",
    "    for tree_name, tree_in in zip(trees_names_in, trees_in):\n",
    "        # Boolean list indicating where tile points occur as tree points\n",
    "        row_match = isin_nd(points, np.asarray(tree_in.points))\n",
    "\n",
    "        # Allocate class and instance label\n",
    "        label[row_match, 0] = 1\n",
    "        label[row_match, 1] = tree_file2number[tree_name]\n",
    "\n",
    "    # Save label as csv file\n",
    "    columns = ['label_class', 'label_instance'] \n",
    "    label_df = pd.DataFrame(data=label, columns=columns)\n",
    "    label_df.to_csv(tilename[:-4] + '_label.csv')\n",
    "    \n"
   ]
  },
  {
   "attachments": {},
   "cell_type": "markdown",
   "metadata": {},
   "source": [
    "Colorize tile according to tree instances"
   ]
  },
  {
   "cell_type": "code",
   "execution_count": 20,
   "metadata": {},
   "outputs": [
    {
     "data": {
      "text/plain": [
       "[PointCloud with 350670 points.,\n",
       " PointCloud with 691314 points.,\n",
       " PointCloud with 742520 points.,\n",
       " PointCloud with 777477 points.,\n",
       " PointCloud with 814386 points.]"
      ]
     },
     "execution_count": 20,
     "metadata": {},
     "output_type": "execute_result"
    }
   ],
   "source": [
    "\n",
    "# Compute number of trees\n",
    "datafolder_segm = \"/mnt/c/Users/wavdnbro/OneDrive - UGent/Documents/spacetwin/datasets/wythamwoods/segmented/\"\n",
    "nr_trees = len([f for f in os.listdir(datafolder_segm) if f[-3:] == 'ply'])\n",
    "\n",
    "# Make colormap, mapping tree number to a unique color, -1 = non-tree\n",
    "colors = np.random.randint(0, 256, (nr_trees, 3)) / 255\n",
    "colormap = {i: color for i, color in enumerate(colors)}\n",
    "colormap[-1] = np.random.randint(0, 256, 3) / 255\n",
    "\n",
    "# Read in all tiles\n",
    "datafolder_raw_clipped = \"/mnt/c/Users/wavdnbro/OneDrive - UGent/Documents/spacetwin/datasets/wythamwoods/raw_selection_clipped_10-25/\"\n",
    "tilenames = [f for f in os.listdir(datafolder_raw_clipped) if f[-3:] == 'ply']\n",
    "# tiles = [o3d.io.read_point_cloud(datafolder_raw_clipped + tile) for tile in tilenames]\n",
    "\n",
    "# Loop over all tiles\n",
    "tiles = []\n",
    "for tilename in tilenames[:5]:\n",
    "    # Read tile\n",
    "    tile = o3d.io.read_point_cloud(datafolder_raw_clipped + tilename)\n",
    "\n",
    "    # Read in file with labels for all points in tile\n",
    "    labels = pd.read_csv(datafolder_raw_clipped + tilename[:-4] + '_label.csv')\n",
    "\n",
    "    # Map point labels to color\n",
    "    colors = [colormap[label] for label in labels['label_instance']]\n",
    "    tile.colors = o3d.utility.Vector3dVector(colors)\n",
    "\n",
    "    # Optional downsampling\n",
    "    tile = tile.voxel_down_sample(0.1)    \n",
    "\n",
    "    tiles.append(tile)\n",
    "\n",
    "# o3d.visualization.draw_geometries(tiles)\n",
    "tiles"
   ]
  },
  {
   "attachments": {},
   "cell_type": "markdown",
   "metadata": {},
   "source": [
    "## Play around with normals and meshes"
   ]
  },
  {
   "cell_type": "code",
   "execution_count": null,
   "metadata": {},
   "outputs": [],
   "source": [
    "datafolder = \"/mnt/c/Users/wavdnbro/OneDrive - UGent/Documents/spacetwin/datasets/wythamwoods/segmented/\"\n",
    "filenames = os.listdir(datafolder) \n",
    "\n",
    "pcl = o3d.t.io.read_point_cloud(datafolder + filenames[0])\n",
    "pcl.point.labels = o3d.core.Tensor(np.repeat(1, len(trees[0].points)), o3d.core.int32)\n",
    "pcl.point.positions"
   ]
  },
  {
   "cell_type": "code",
   "execution_count": null,
   "metadata": {},
   "outputs": [],
   "source": [
    "trees[0].geometry.estimate_normals(trees[0])\n",
    "\n",
    "from open3d.cuda.pybind.geometry import \n",
    "from open3d.cuda.pybind.io import \n",
    "\n"
   ]
  },
  {
   "cell_type": "code",
   "execution_count": null,
   "metadata": {},
   "outputs": [],
   "source": [
    "trees[0].estimate_normals()"
   ]
  },
  {
   "cell_type": "code",
   "execution_count": null,
   "metadata": {},
   "outputs": [],
   "source": [
    "np.asarray(trees[0].normals)"
   ]
  },
  {
   "cell_type": "code",
   "execution_count": null,
   "metadata": {},
   "outputs": [],
   "source": [
    "distances = trees[0].compute_nearest_neighbor_distance()\n",
    "avg_dist = np.mean(distances)\n",
    "radius = 3 * avg_dist\n",
    "\n",
    "print(avg_dist, radius)\n"
   ]
  },
  {
   "cell_type": "code",
   "execution_count": null,
   "metadata": {},
   "outputs": [],
   "source": [
    "bpa_mesh = o3d.geometry.TriangleMesh.create_from_point_cloud_ball_pivoting(\n",
    "    trees[0],\n",
    "    o3d.utility.DoubleVector([radius, radius * 2])\n",
    ")\n",
    "bpa_mesh"
   ]
  },
  {
   "attachments": {},
   "cell_type": "markdown",
   "metadata": {},
   "source": [
    "## Code for adding scanpositions to ply files"
   ]
  },
  {
   "cell_type": "code",
   "execution_count": 22,
   "metadata": {},
   "outputs": [
    {
     "data": {
      "text/plain": [
       "True"
      ]
     },
     "execution_count": 22,
     "metadata": {},
     "output_type": "execute_result"
    }
   ],
   "source": [
    "# -----------------\n",
    "# Add scanposition (as normals) and time attribute to point cloud and save as ply file \n",
    "# using open3d\n",
    "# -----------------\n",
    "\n",
    "device = o3d.core.Device(\"CPU:0\")\n",
    "dtype = o3d.core.float32\n",
    "\n",
    "pcd = o3d.t.geometry.PointCloud(device)\n",
    "\n",
    "# Array with x, y, z positions\n",
    "positions = [[0, 0, 0], [1, 1, 1], [2, 2, 2]]\n",
    "pcd.point.positions = o3d.core.Tensor(\n",
    "    positions,\n",
    "    dtype,\n",
    "    device,\n",
    ")\n",
    "\n",
    "n_points = len(positions)\n",
    "\n",
    "# Single scan position coordinates\n",
    "scanpos = [[5, 5, 5]]\n",
    "scanpos = np.repeat(scanpos, n_points, axis=0)\n",
    "pcd.point.normals = o3d.core.Tensor(\n",
    "    scanpos,\n",
    "    dtype,\n",
    "    device\n",
    ")\n",
    "\n",
    "# Random time\n",
    "time = [[0]]\n",
    "time = np.repeat(time, n_points, axis=0)\n",
    "pcd.point.time = o3d.core.Tensor(\n",
    "    time,\n",
    "    dtype,\n",
    "    device\n",
    ")\n",
    "\n",
    "filename = 'tests/pcl_with_pos_as_normal.ply'\n",
    "o3d.t.io.write_point_cloud(\n",
    "    filename, \n",
    "    pcd, \n",
    "    write_ascii=False, \n",
    "    compressed=False, \n",
    "    print_progress=False,\n",
    ")\n",
    "\n"
   ]
  },
  {
   "attachments": {},
   "cell_type": "markdown",
   "metadata": {},
   "source": [
    "## Try out reading rxp files"
   ]
  },
  {
   "cell_type": "code",
   "execution_count": 1,
   "metadata": {},
   "outputs": [
    {
     "data": {
      "text/plain": [
       "[array([(4.27240038, -0.06492999,  2.48329592, 11057.87546044, 1, 1, 28.3     , -5.7574115, 5.04542504, 3., nan, 1, 0, 0.86435125, -1.27520496e-02,  0.50272685, -0.08861916, -0.00059048, -0.05317464, 42035),\n",
       "        (4.27344704, -0.0649789 ,  2.48000431, 11057.87546209, 1, 1, 27.63    , -6.4271717, 5.04467431, 5., nan, 1, 0, 0.86469426, -1.27638835e-02,  0.50213635, -0.08865409, -0.00058926, -0.05310998, 40572),\n",
       "        (4.27222824, -0.06499664,  2.47512722, 11057.87546384, 1, 1, 27.93    , -6.126057 , 5.04117089, 4., nan, 1, 0, 0.86506089, -1.27765324e-02,  0.50150414, -0.08869141, -0.00058796, -0.05304075, 41230),\n",
       "        ...,\n",
       "        (1.84184647, -0.00234389, -1.5467087 , 11148.07597837, 1, 1, 25.07    , -7.8121033, 2.49900012, 6., nan, 1, 0, 0.76452867, -5.33666122e-05, -0.64458948, -0.06871075, -0.00221053,  0.06412051, 37547),\n",
       "        (1.84607422, -0.00231917, -1.55256999, 11148.07598012, 1, 1, 24.949999, -7.937126 , 2.50600012, 8., nan, 1, 0, 0.76405736, -4.27746745e-05, -0.64514807, -0.06865361, -0.00221198,  0.06417117, 37274),\n",
       "        (1.84005964, -0.00228712, -1.54963303, 11148.07598172, 1, 1, 25.64    , -7.2424617, 2.49950012, 5., nan, 1, 0, 0.76361659, -2.93982755e-05, -0.64566972, -0.06860018, -0.00221364,  0.06421846, 38791)],\n",
       "       dtype=[('X', '<f8'), ('Y', '<f8'), ('Z', '<f8'), ('GpsTime', '<f8'), ('ReturnNumber', 'u1'), ('NumberOfReturns', 'u1'), ('Amplitude', '<f4'), ('Reflectance', '<f4'), ('EchoRange', '<f8'), ('Deviation', '<f4'), ('BackgroundRadiation', '<f4'), ('IsPpsLocked', 'u1'), ('EdgeOfFlightLine', 'u1'), ('BeamDirectionX', '<f8'), ('BeamDirectionY', '<f8'), ('BeamDirectionZ', '<f8'), ('BeamOriginX', '<f8'), ('BeamOriginY', '<f8'), ('BeamOriginZ', '<f8'), ('Intensity', '<u2')])]"
      ]
     },
     "execution_count": 1,
     "metadata": {},
     "output_type": "execute_result"
    },
    {
     "ename": "",
     "evalue": "",
     "output_type": "error",
     "traceback": [
      "\u001b[1;31mThe Kernel crashed while executing code in the the current cell or a previous cell. Please review the code in the cell(s) to identify a possible cause of the failure. Click <a href='https://aka.ms/vscodeJupyterKernelCrash'>here</a> for more info. View Jupyter <a href='command:jupyter.viewOutput'>log</a> for further details."
     ]
    }
   ],
   "source": [
    "import pdal\n",
    "\n",
    "DATA_DIR = \"/mnt/c/Users/wavdnbro/OneDrive - UGent/Documents/spacetwin/datasets/eucface/\"\n",
    "\n",
    "\n",
    "json = \"\"\"\n",
    "{\n",
    "    \"pipeline\": [\n",
    "        \"/mnt/c/Users/wavdnbro/OneDrive - UGent/Documents/spacetwin/datasets/eucface/220505_130358.rxp\"\n",
    "    ]\n",
    "}\n",
    "\"\"\"\n",
    "\n",
    "pipeline = pdal.Pipeline(json)\n",
    "count = pipeline.execute()\n",
    "arrays = pipeline.arrays\n",
    "\n",
    "arrays\n"
   ]
  },
  {
   "cell_type": "code",
   "execution_count": 1,
   "metadata": {},
   "outputs": [
    {
     "data": {
      "text/plain": [
       "'/home/woutervdb/spacetwin/pcl-segmentation/rivlib-2_6_0-arm_64-linux-gcc5:/home/woutervdb/anaconda3/envs/spacetwin/lib:/home/woutervdb/anaconda3/envs/spacetwin/lib/python3.10/site-packages/lib:/home/woutervdb/anaconda3/envs/spacetwin/lib/python3.10/site-packages/lib64:/home/woutervdb/anaconda3/envs/spacetwin/lib/python3.10/site-packages/pdal'"
      ]
     },
     "execution_count": 1,
     "metadata": {},
     "output_type": "execute_result"
    }
   ],
   "source": [
    "RiVLib_DIR = \"/home/woutervdb/spacetwin/pcl-segmentation/rivlib-2_6_0-arm_64-linux-gcc5:\"\n",
    "\n",
    "from dotenv import load_dotenv, dotenv_values\n",
    "load_dotenv()\n",
    "\n",
    "import os\n",
    "os.environ['PDAL_DRIVER_PATH'] = RiVLib_DIR + os.environ['PDAL_DRIVER_PATH'] \n",
    "os.environ['PDAL_DRIVER_PATH']\n",
    "\n"
   ]
  }
 ],
 "metadata": {
  "kernelspec": {
   "display_name": "spacetwin",
   "language": "python",
   "name": "python3"
  },
  "language_info": {
   "codemirror_mode": {
    "name": "ipython",
    "version": 3
   },
   "file_extension": ".py",
   "mimetype": "text/x-python",
   "name": "python",
   "nbconvert_exporter": "python",
   "pygments_lexer": "ipython3",
   "version": "3.11.0"
  },
  "orig_nbformat": 4,
  "vscode": {
   "interpreter": {
    "hash": "d613a8f84a3cca9fdff0d15341a4965998d98e6aa842c40eaa5326b105ac6f44"
   }
  }
 },
 "nbformat": 4,
 "nbformat_minor": 2
}
